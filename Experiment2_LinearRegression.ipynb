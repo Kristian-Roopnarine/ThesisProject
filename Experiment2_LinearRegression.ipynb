{
 "cells": [
  {
   "cell_type": "code",
   "execution_count": 1,
   "metadata": {},
   "outputs": [
    {
     "name": "stdout",
     "output_type": "stream",
     "text": [
      "Using matplotlib backend: TkAgg\n"
     ]
    }
   ],
   "source": [
    "import pandas as pd\n",
    "import numpy as np\n",
    "%matplotlib\n",
    "import matplotlib.pyplot as plt\n",
    "%matplotlib inline\n",
    "import random\n",
    "plt.style.use('seaborn-whitegrid')\n",
    "import re"
   ]
  },
  {
   "cell_type": "code",
   "execution_count": 2,
   "metadata": {},
   "outputs": [],
   "source": [
    "raw_df = pd.read_excel('../Thesis-data/Hematite kinetic exp 2 3312018.xlsx')"
   ]
  },
  {
   "cell_type": "code",
   "execution_count": 3,
   "metadata": {},
   "outputs": [
    {
     "data": {
      "text/html": [
       "<div>\n",
       "<style scoped>\n",
       "    .dataframe tbody tr th:only-of-type {\n",
       "        vertical-align: middle;\n",
       "    }\n",
       "\n",
       "    .dataframe tbody tr th {\n",
       "        vertical-align: top;\n",
       "    }\n",
       "\n",
       "    .dataframe thead th {\n",
       "        text-align: right;\n",
       "    }\n",
       "</style>\n",
       "<table border=\"1\" class=\"dataframe\">\n",
       "  <thead>\n",
       "    <tr style=\"text-align: right;\">\n",
       "      <th></th>\n",
       "      <th>Unnamed: 0</th>\n",
       "      <th>Unnamed: 1</th>\n",
       "      <th>Unnamed: 2</th>\n",
       "      <th>Unnamed: 3</th>\n",
       "      <th>Unnamed: 4</th>\n",
       "    </tr>\n",
       "  </thead>\n",
       "  <tbody>\n",
       "    <tr>\n",
       "      <th>0</th>\n",
       "      <td>NaN</td>\n",
       "      <td>NaN</td>\n",
       "      <td>NaN</td>\n",
       "      <td>NaN</td>\n",
       "      <td>NaN</td>\n",
       "    </tr>\n",
       "    <tr>\n",
       "      <th>1</th>\n",
       "      <td>NaN</td>\n",
       "      <td>NaN</td>\n",
       "      <td>NaN</td>\n",
       "      <td>NaN</td>\n",
       "      <td>NaN</td>\n",
       "    </tr>\n",
       "    <tr>\n",
       "      <th>2</th>\n",
       "      <td>NaN</td>\n",
       "      <td>NaN</td>\n",
       "      <td>NaN</td>\n",
       "      <td>NaN</td>\n",
       "      <td>NaN</td>\n",
       "    </tr>\n",
       "    <tr>\n",
       "      <th>3</th>\n",
       "      <td>NaN</td>\n",
       "      <td>NaN</td>\n",
       "      <td>NaN</td>\n",
       "      <td>NaN</td>\n",
       "      <td>NaN</td>\n",
       "    </tr>\n",
       "    <tr>\n",
       "      <th>4</th>\n",
       "      <td>Sample Name</td>\n",
       "      <td>NaN</td>\n",
       "      <td>GAMMA Analyte Peak Area</td>\n",
       "      <td>BETA Analyte Peak Area (counts)</td>\n",
       "      <td>ALPHA Analyte Peak Area (counts)</td>\n",
       "    </tr>\n",
       "    <tr>\n",
       "      <th>5</th>\n",
       "      <td>.1 STD</td>\n",
       "      <td>NaN</td>\n",
       "      <td>68268</td>\n",
       "      <td>7007.3</td>\n",
       "      <td>9455.4</td>\n",
       "    </tr>\n",
       "    <tr>\n",
       "      <th>6</th>\n",
       "      <td>.1 STD</td>\n",
       "      <td>NaN</td>\n",
       "      <td>77302</td>\n",
       "      <td>7455.6</td>\n",
       "      <td>9379.8</td>\n",
       "    </tr>\n",
       "    <tr>\n",
       "      <th>7</th>\n",
       "      <td>.5 STD</td>\n",
       "      <td>NaN</td>\n",
       "      <td>345160</td>\n",
       "      <td>33035</td>\n",
       "      <td>47852</td>\n",
       "    </tr>\n",
       "    <tr>\n",
       "      <th>8</th>\n",
       "      <td>.5 STD</td>\n",
       "      <td>NaN</td>\n",
       "      <td>362500</td>\n",
       "      <td>33137</td>\n",
       "      <td>49685</td>\n",
       "    </tr>\n",
       "    <tr>\n",
       "      <th>9</th>\n",
       "      <td>1.0 STD</td>\n",
       "      <td>NaN</td>\n",
       "      <td>670920</td>\n",
       "      <td>66302</td>\n",
       "      <td>102390</td>\n",
       "    </tr>\n",
       "  </tbody>\n",
       "</table>\n",
       "</div>"
      ],
      "text/plain": [
       "    Unnamed: 0  Unnamed: 1                Unnamed: 2  \\\n",
       "0          NaN         NaN                       NaN   \n",
       "1          NaN         NaN                       NaN   \n",
       "2          NaN         NaN                       NaN   \n",
       "3          NaN         NaN                       NaN   \n",
       "4  Sample Name         NaN  GAMMA Analyte Peak Area    \n",
       "5       .1 STD         NaN                     68268   \n",
       "6       .1 STD         NaN                     77302   \n",
       "7       .5 STD         NaN                    345160   \n",
       "8       .5 STD         NaN                    362500   \n",
       "9      1.0 STD         NaN                    670920   \n",
       "\n",
       "                         Unnamed: 3                         Unnamed: 4  \n",
       "0                               NaN                                NaN  \n",
       "1                               NaN                                NaN  \n",
       "2                               NaN                                NaN  \n",
       "3                               NaN                                NaN  \n",
       "4   BETA Analyte Peak Area (counts)   ALPHA Analyte Peak Area (counts)  \n",
       "5                            7007.3                             9455.4  \n",
       "6                            7455.6                             9379.8  \n",
       "7                             33035                              47852  \n",
       "8                             33137                              49685  \n",
       "9                             66302                             102390  "
      ]
     },
     "execution_count": 3,
     "metadata": {},
     "output_type": "execute_result"
    }
   ],
   "source": [
    "raw_df.head(10)"
   ]
  },
  {
   "cell_type": "code",
   "execution_count": 4,
   "metadata": {},
   "outputs": [],
   "source": [
    "raw_df.dropna(axis='columns',how='all',inplace=True)"
   ]
  },
  {
   "cell_type": "code",
   "execution_count": 5,
   "metadata": {},
   "outputs": [],
   "source": [
    "raw_df.dropna(inplace=True)"
   ]
  },
  {
   "cell_type": "code",
   "execution_count": 6,
   "metadata": {},
   "outputs": [],
   "source": [
    "raw_df = raw_df.reset_index(drop=True)"
   ]
  },
  {
   "cell_type": "code",
   "execution_count": 7,
   "metadata": {},
   "outputs": [
    {
     "data": {
      "text/html": [
       "<div>\n",
       "<style scoped>\n",
       "    .dataframe tbody tr th:only-of-type {\n",
       "        vertical-align: middle;\n",
       "    }\n",
       "\n",
       "    .dataframe tbody tr th {\n",
       "        vertical-align: top;\n",
       "    }\n",
       "\n",
       "    .dataframe thead th {\n",
       "        text-align: right;\n",
       "    }\n",
       "</style>\n",
       "<table border=\"1\" class=\"dataframe\">\n",
       "  <thead>\n",
       "    <tr style=\"text-align: right;\">\n",
       "      <th></th>\n",
       "      <th>Unnamed: 0</th>\n",
       "      <th>Unnamed: 2</th>\n",
       "      <th>Unnamed: 3</th>\n",
       "      <th>Unnamed: 4</th>\n",
       "    </tr>\n",
       "  </thead>\n",
       "  <tbody>\n",
       "    <tr>\n",
       "      <th>0</th>\n",
       "      <td>Sample Name</td>\n",
       "      <td>GAMMA Analyte Peak Area</td>\n",
       "      <td>BETA Analyte Peak Area (counts)</td>\n",
       "      <td>ALPHA Analyte Peak Area (counts)</td>\n",
       "    </tr>\n",
       "    <tr>\n",
       "      <th>1</th>\n",
       "      <td>.1 STD</td>\n",
       "      <td>68268</td>\n",
       "      <td>7007.3</td>\n",
       "      <td>9455.4</td>\n",
       "    </tr>\n",
       "    <tr>\n",
       "      <th>2</th>\n",
       "      <td>.1 STD</td>\n",
       "      <td>77302</td>\n",
       "      <td>7455.6</td>\n",
       "      <td>9379.8</td>\n",
       "    </tr>\n",
       "    <tr>\n",
       "      <th>3</th>\n",
       "      <td>.5 STD</td>\n",
       "      <td>345160</td>\n",
       "      <td>33035</td>\n",
       "      <td>47852</td>\n",
       "    </tr>\n",
       "    <tr>\n",
       "      <th>4</th>\n",
       "      <td>.5 STD</td>\n",
       "      <td>362500</td>\n",
       "      <td>33137</td>\n",
       "      <td>49685</td>\n",
       "    </tr>\n",
       "  </tbody>\n",
       "</table>\n",
       "</div>"
      ],
      "text/plain": [
       "    Unnamed: 0                Unnamed: 2                        Unnamed: 3  \\\n",
       "0  Sample Name  GAMMA Analyte Peak Area    BETA Analyte Peak Area (counts)   \n",
       "1       .1 STD                     68268                            7007.3   \n",
       "2       .1 STD                     77302                            7455.6   \n",
       "3       .5 STD                    345160                             33035   \n",
       "4       .5 STD                    362500                             33137   \n",
       "\n",
       "                          Unnamed: 4  \n",
       "0   ALPHA Analyte Peak Area (counts)  \n",
       "1                             9455.4  \n",
       "2                             9379.8  \n",
       "3                              47852  \n",
       "4                              49685  "
      ]
     },
     "execution_count": 7,
     "metadata": {},
     "output_type": "execute_result"
    }
   ],
   "source": [
    "raw_df.head()"
   ]
  },
  {
   "cell_type": "code",
   "execution_count": 8,
   "metadata": {},
   "outputs": [],
   "source": [
    "col = raw_df.columns"
   ]
  },
  {
   "cell_type": "code",
   "execution_count": 9,
   "metadata": {},
   "outputs": [],
   "source": [
    "new_names = []\n",
    "for i in range(len(col)):\n",
    "    new_names.append(tuple([col[i],raw_df.iloc[0,i]]))"
   ]
  },
  {
   "cell_type": "code",
   "execution_count": 10,
   "metadata": {},
   "outputs": [],
   "source": [
    "new_names = dict(new_names)"
   ]
  },
  {
   "cell_type": "code",
   "execution_count": 11,
   "metadata": {},
   "outputs": [
    {
     "data": {
      "text/plain": [
       "{'Unnamed: 0': 'Sample Name',\n",
       " 'Unnamed: 2': 'GAMMA Analyte Peak Area ',\n",
       " 'Unnamed: 3': ' BETA Analyte Peak Area (counts)',\n",
       " 'Unnamed: 4': ' ALPHA Analyte Peak Area (counts)'}"
      ]
     },
     "execution_count": 11,
     "metadata": {},
     "output_type": "execute_result"
    }
   ],
   "source": [
    "new_names"
   ]
  },
  {
   "cell_type": "code",
   "execution_count": 12,
   "metadata": {},
   "outputs": [],
   "source": [
    "raw_df = raw_df.rename(columns=new_names).drop(index=0)"
   ]
  },
  {
   "cell_type": "code",
   "execution_count": 13,
   "metadata": {},
   "outputs": [
    {
     "data": {
      "text/html": [
       "<div>\n",
       "<style scoped>\n",
       "    .dataframe tbody tr th:only-of-type {\n",
       "        vertical-align: middle;\n",
       "    }\n",
       "\n",
       "    .dataframe tbody tr th {\n",
       "        vertical-align: top;\n",
       "    }\n",
       "\n",
       "    .dataframe thead th {\n",
       "        text-align: right;\n",
       "    }\n",
       "</style>\n",
       "<table border=\"1\" class=\"dataframe\">\n",
       "  <thead>\n",
       "    <tr style=\"text-align: right;\">\n",
       "      <th></th>\n",
       "      <th>Sample Name</th>\n",
       "      <th>GAMMA Analyte Peak Area</th>\n",
       "      <th>BETA Analyte Peak Area (counts)</th>\n",
       "      <th>ALPHA Analyte Peak Area (counts)</th>\n",
       "    </tr>\n",
       "  </thead>\n",
       "  <tbody>\n",
       "    <tr>\n",
       "      <th>1</th>\n",
       "      <td>.1 STD</td>\n",
       "      <td>68268</td>\n",
       "      <td>7007.3</td>\n",
       "      <td>9455.4</td>\n",
       "    </tr>\n",
       "    <tr>\n",
       "      <th>2</th>\n",
       "      <td>.1 STD</td>\n",
       "      <td>77302</td>\n",
       "      <td>7455.6</td>\n",
       "      <td>9379.8</td>\n",
       "    </tr>\n",
       "    <tr>\n",
       "      <th>3</th>\n",
       "      <td>.5 STD</td>\n",
       "      <td>345160</td>\n",
       "      <td>33035</td>\n",
       "      <td>47852</td>\n",
       "    </tr>\n",
       "    <tr>\n",
       "      <th>4</th>\n",
       "      <td>.5 STD</td>\n",
       "      <td>362500</td>\n",
       "      <td>33137</td>\n",
       "      <td>49685</td>\n",
       "    </tr>\n",
       "    <tr>\n",
       "      <th>5</th>\n",
       "      <td>1.0 STD</td>\n",
       "      <td>670920</td>\n",
       "      <td>66302</td>\n",
       "      <td>102390</td>\n",
       "    </tr>\n",
       "  </tbody>\n",
       "</table>\n",
       "</div>"
      ],
      "text/plain": [
       "  Sample Name GAMMA Analyte Peak Area   BETA Analyte Peak Area (counts)  \\\n",
       "1      .1 STD                    68268                           7007.3   \n",
       "2      .1 STD                    77302                           7455.6   \n",
       "3      .5 STD                   345160                            33035   \n",
       "4      .5 STD                   362500                            33137   \n",
       "5     1.0 STD                   670920                            66302   \n",
       "\n",
       "   ALPHA Analyte Peak Area (counts)  \n",
       "1                            9455.4  \n",
       "2                            9379.8  \n",
       "3                             47852  \n",
       "4                             49685  \n",
       "5                            102390  "
      ]
     },
     "execution_count": 13,
     "metadata": {},
     "output_type": "execute_result"
    }
   ],
   "source": [
    "raw_df.head()"
   ]
  },
  {
   "cell_type": "code",
   "execution_count": 14,
   "metadata": {},
   "outputs": [],
   "source": [
    "standard_df = raw_df.iloc[0:10]\n",
    "experiment_df = raw_df.iloc[10:]"
   ]
  },
  {
   "cell_type": "code",
   "execution_count": 15,
   "metadata": {},
   "outputs": [],
   "source": [
    "standard_df.reset_index(drop=True,inplace=True)"
   ]
  },
  {
   "cell_type": "code",
   "execution_count": 16,
   "metadata": {},
   "outputs": [
    {
     "name": "stderr",
     "output_type": "stream",
     "text": [
      "c:\\users\\krist\\appdata\\local\\programs\\python\\python37-32\\lib\\site-packages\\ipykernel_launcher.py:1: SettingWithCopyWarning: \n",
      "A value is trying to be set on a copy of a slice from a DataFrame.\n",
      "Try using .loc[row_indexer,col_indexer] = value instead\n",
      "\n",
      "See the caveats in the documentation: http://pandas.pydata.org/pandas-docs/stable/indexing.html#indexing-view-versus-copy\n",
      "  \"\"\"Entry point for launching an IPython kernel.\n"
     ]
    }
   ],
   "source": [
    "standard_df['Sample Name'] = standard_df['Sample Name'].map(lambda x: x.lstrip('+-').rstrip('SsTtDd'))"
   ]
  },
  {
   "cell_type": "code",
   "execution_count": 17,
   "metadata": {},
   "outputs": [
    {
     "data": {
      "text/html": [
       "<div>\n",
       "<style scoped>\n",
       "    .dataframe tbody tr th:only-of-type {\n",
       "        vertical-align: middle;\n",
       "    }\n",
       "\n",
       "    .dataframe tbody tr th {\n",
       "        vertical-align: top;\n",
       "    }\n",
       "\n",
       "    .dataframe thead th {\n",
       "        text-align: right;\n",
       "    }\n",
       "</style>\n",
       "<table border=\"1\" class=\"dataframe\">\n",
       "  <thead>\n",
       "    <tr style=\"text-align: right;\">\n",
       "      <th></th>\n",
       "      <th>Sample Name</th>\n",
       "      <th>GAMMA Analyte Peak Area</th>\n",
       "      <th>BETA Analyte Peak Area (counts)</th>\n",
       "      <th>ALPHA Analyte Peak Area (counts)</th>\n",
       "    </tr>\n",
       "  </thead>\n",
       "  <tbody>\n",
       "    <tr>\n",
       "      <th>0</th>\n",
       "      <td>.1</td>\n",
       "      <td>68268</td>\n",
       "      <td>7007.3</td>\n",
       "      <td>9455.4</td>\n",
       "    </tr>\n",
       "    <tr>\n",
       "      <th>1</th>\n",
       "      <td>.1</td>\n",
       "      <td>77302</td>\n",
       "      <td>7455.6</td>\n",
       "      <td>9379.8</td>\n",
       "    </tr>\n",
       "    <tr>\n",
       "      <th>2</th>\n",
       "      <td>.5</td>\n",
       "      <td>345160</td>\n",
       "      <td>33035</td>\n",
       "      <td>47852</td>\n",
       "    </tr>\n",
       "    <tr>\n",
       "      <th>3</th>\n",
       "      <td>.5</td>\n",
       "      <td>362500</td>\n",
       "      <td>33137</td>\n",
       "      <td>49685</td>\n",
       "    </tr>\n",
       "    <tr>\n",
       "      <th>4</th>\n",
       "      <td>1.0</td>\n",
       "      <td>670920</td>\n",
       "      <td>66302</td>\n",
       "      <td>102390</td>\n",
       "    </tr>\n",
       "  </tbody>\n",
       "</table>\n",
       "</div>"
      ],
      "text/plain": [
       "  Sample Name GAMMA Analyte Peak Area   BETA Analyte Peak Area (counts)  \\\n",
       "0         .1                     68268                           7007.3   \n",
       "1         .1                     77302                           7455.6   \n",
       "2         .5                    345160                            33035   \n",
       "3         .5                    362500                            33137   \n",
       "4        1.0                    670920                            66302   \n",
       "\n",
       "   ALPHA Analyte Peak Area (counts)  \n",
       "0                            9455.4  \n",
       "1                            9379.8  \n",
       "2                             47852  \n",
       "3                             49685  \n",
       "4                            102390  "
      ]
     },
     "execution_count": 17,
     "metadata": {},
     "output_type": "execute_result"
    }
   ],
   "source": [
    "standard_df.head()"
   ]
  },
  {
   "cell_type": "code",
   "execution_count": 18,
   "metadata": {},
   "outputs": [
    {
     "name": "stderr",
     "output_type": "stream",
     "text": [
      "c:\\users\\krist\\appdata\\local\\programs\\python\\python37-32\\lib\\site-packages\\pandas\\core\\frame.py:3391: SettingWithCopyWarning: \n",
      "A value is trying to be set on a copy of a slice from a DataFrame.\n",
      "Try using .loc[row_indexer,col_indexer] = value instead\n",
      "\n",
      "See the caveats in the documentation: http://pandas.pydata.org/pandas-docs/stable/indexing.html#indexing-view-versus-copy\n",
      "  self[k1] = value[k2]\n"
     ]
    }
   ],
   "source": [
    "col = standard_df.columns\n",
    "standard_df[col] = standard_df[col].apply(pd.to_numeric)"
   ]
  },
  {
   "cell_type": "code",
   "execution_count": 19,
   "metadata": {},
   "outputs": [],
   "source": [
    "x = standard_df['Sample Name']\n",
    "gamma = standard_df.columns[1]\n",
    "y = standard_df[gamma]"
   ]
  },
  {
   "cell_type": "code",
   "execution_count": 20,
   "metadata": {},
   "outputs": [
    {
     "data": {
      "text/plain": [
       "0      68268\n",
       "1      77302\n",
       "2     345160\n",
       "3     362500\n",
       "4     670920\n",
       "5     702030\n",
       "6     997340\n",
       "7    1000800\n",
       "8    1257200\n",
       "9    1251100\n",
       "Name: GAMMA Analyte Peak Area , dtype: int64"
      ]
     },
     "execution_count": 20,
     "metadata": {},
     "output_type": "execute_result"
    }
   ],
   "source": [
    "y"
   ]
  },
  {
   "cell_type": "code",
   "execution_count": 21,
   "metadata": {},
   "outputs": [],
   "source": [
    "def cost_function(x,y,w,b):\n",
    "    samples = len(x)\n",
    "    total_error = 0\n",
    "    for i in range(samples):\n",
    "        total_error += (y[i] - (w * x[i] + b)) ** 2\n",
    "    return total_error/samples    "
   ]
  },
  {
   "cell_type": "code",
   "execution_count": 22,
   "metadata": {},
   "outputs": [],
   "source": [
    "def update_weights(x,y,weight,bias,learning_rate):\n",
    "    weight_deriv = 0\n",
    "    bias_deriv = 0\n",
    "    samples = len(x)\n",
    "    for i in range(samples):\n",
    "        weight_deriv += -2 * x[i] * (y[i] - (weight * x[i] + bias))\n",
    "        bias_deriv += -2 * (y[i] - (weight * x[i] + bias))\n",
    "    weight -= (weight_deriv/samples) * learning_rate\n",
    "    bias -= (bias_deriv/samples) * learning_rate\n",
    "    return weight,bias"
   ]
  },
  {
   "cell_type": "code",
   "execution_count": 23,
   "metadata": {},
   "outputs": [],
   "source": [
    "def train(x,y,weight,bias,learning_rate,iterations):\n",
    "    cost_history = []\n",
    "    for i in range(iterations):\n",
    "        weight,bias = update_weights(x,y,weight,bias,learning_rate)\n",
    "        cost = cost_function(x,y,weight,bias)\n",
    "        cost_history.append(cost)\n",
    "        if i % (iterations/10) == 0:\n",
    "            print('The current weight = %s, bias = %s, and cost = %s.' % (weight,bias,cost))\n",
    "        else:\n",
    "            continue\n",
    "    return weight,bias"
   ]
  },
  {
   "cell_type": "code",
   "execution_count": 24,
   "metadata": {},
   "outputs": [
    {
     "name": "stdout",
     "output_type": "stream",
     "text": [
      "The current weight = 195.10294, bias = 134.6524, and cost = 634062997390.7123.\n",
      "The current weight = 158103.61158003352, bias = 105997.53851116996, and cost = 266399939494.85864.\n",
      "The current weight = 260614.22542317506, bias = 169145.8982564986, and cost = 118952569180.94449.\n",
      "The current weight = 328054.112931214, bias = 205483.55511706375, and cost = 59276896812.426636.\n",
      "The current weight = 373254.88609063014, bias = 225040.7492458999, and cost = 34626619505.752396.\n",
      "The current weight = 404318.0138714419, bias = 234141.4982150793, and cost = 23992081875.290127.\n",
      "The current weight = 426359.90558670287, bias = 236771.27176860007, and cost = 19001821572.81731.\n",
      "The current weight = 442613.1285655517, bias = 235440.0359601032, and cost = 16317398626.227102.\n",
      "The current weight = 455121.32289251947, bias = 231726.85734160373, and cost = 14604932525.825268.\n",
      "The current weight = 465177.72396389244, bias = 226623.56027512994, and cost = 13329118417.486145.\n"
     ]
    }
   ],
   "source": [
    "learning_rate = .0001\n",
    "iterations = 10000\n",
    "weight,bias = train(x,y,0,0,learning_rate,iterations)"
   ]
  },
  {
   "cell_type": "code",
   "execution_count": 25,
   "metadata": {},
   "outputs": [
    {
     "name": "stdout",
     "output_type": "stream",
     "text": [
      "The current weight = 1951.0294, bias = 1346.5240000000001, and cost = 629018079964.1934.\n",
      "The current weight = 473721.20407238393, bias = 220712.98877881753, and cost = 12261317966.889223.\n",
      "The current weight = 526558.9860356582, bias = 161441.72999986846, and cost = 5839646747.198893.\n",
      "The current weight = 559325.5825935462, bias = 119715.25339040055, and cost = 2987808058.5936203.\n",
      "The current weight = 581236.9855098889, bias = 91759.06004204518, and cost = 1709526327.1618671.\n",
      "The current weight = 595906.436037078, bias = 73042.15843417162, and cost = 1136560005.6326072.\n",
      "The current weight = 605727.6458913035, bias = 60511.17133012051, and cost = 879738369.4614998.\n",
      "The current weight = 612302.9560870058, bias = 52121.662399872774, and cost = 764622785.3036731.\n",
      "The current weight = 616705.1331074408, bias = 46504.87743769609, and cost = 713024337.7835889.\n",
      "The current weight = 619652.3952051302, bias = 42744.43405864441, and cost = 689896280.8314259.\n"
     ]
    }
   ],
   "source": [
    "learning_rate = .001\n",
    "iterations = 10000\n",
    "weight,bias = train(x,y,0,0,learning_rate,iterations)"
   ]
  },
  {
   "cell_type": "code",
   "execution_count": 26,
   "metadata": {},
   "outputs": [
    {
     "name": "stdout",
     "output_type": "stream",
     "text": [
      "The current weight = 292654.41, bias = 201978.6, and cost = 81699249172.6401.\n",
      "The current weight = 625622.7469670707, bias = 35126.79809358787, and cost = 671108093.9568459.\n",
      "The current weight = 625622.7469670707, bias = 35126.79809358787, and cost = 671108093.9568459.\n",
      "The current weight = 625622.7469670707, bias = 35126.79809358787, and cost = 671108093.9568459.\n",
      "The current weight = 625622.7469670707, bias = 35126.79809358787, and cost = 671108093.9568459.\n",
      "The current weight = 625622.7469670707, bias = 35126.79809358787, and cost = 671108093.9568459.\n",
      "The current weight = 625622.7469670707, bias = 35126.79809358787, and cost = 671108093.9568459.\n",
      "The current weight = 625622.7469670707, bias = 35126.79809358787, and cost = 671108093.9568459.\n",
      "The current weight = 625622.7469670707, bias = 35126.79809358787, and cost = 671108093.9568459.\n",
      "The current weight = 625622.7469670707, bias = 35126.79809358787, and cost = 671108093.9568459.\n"
     ]
    }
   ],
   "source": [
    "learning_rate = 0.15\n",
    "iterations = 10000\n",
    "weight,bias = train(x,y,0,0,learning_rate,iterations)"
   ]
  },
  {
   "cell_type": "code",
   "execution_count": 27,
   "metadata": {},
   "outputs": [
    {
     "name": "stdout",
     "output_type": "stream",
     "text": [
      "The current weight = 1951.0294, bias = 1346.5240000000001, and cost = 629018079964.1934.\n",
      "The current weight = 526558.9860356582, bias = 161441.72999986846, and cost = 5839646747.198893.\n",
      "The current weight = 581236.9855098889, bias = 91759.06004204518, and cost = 1709526327.1618671.\n",
      "The current weight = 605727.6458913035, bias = 60511.17133012051, and cost = 879738369.4614998.\n",
      "The current weight = 616705.1331074408, bias = 46504.87743769609, and cost = 713024337.7835889.\n",
      "The current weight = 621625.5902475277, bias = 40226.813301880866, and cost = 679529553.8446462.\n",
      "The current weight = 623831.0948399346, bias = 37412.78629407273, and cost = 672800062.9924037.\n",
      "The current weight = 624819.6717889135, bias = 36151.450342517615, and cost = 671448030.1740143.\n",
      "The current weight = 625262.7832598296, bias = 35586.079655501555, and cost = 671176391.088361.\n",
      "The current weight = 625461.3998428475, bias = 35332.66262307489, and cost = 671121815.6432623.\n"
     ]
    }
   ],
   "source": [
    "learning_rate = .001\n",
    "iterations = 20000\n",
    "weight,bias = train(x,y,0,0,learning_rate,iterations)"
   ]
  },
  {
   "cell_type": "code",
   "execution_count": 28,
   "metadata": {},
   "outputs": [],
   "source": [
    "weight = round(weight,3)\n",
    "bias = round(bias, 3)"
   ]
  },
  {
   "cell_type": "code",
   "execution_count": 29,
   "metadata": {},
   "outputs": [
    {
     "data": {
      "text/plain": [
       "<matplotlib.legend.Legend at 0xfc27250>"
      ]
     },
     "execution_count": 29,
     "metadata": {},
     "output_type": "execute_result"
    },
    {
     "data": {
      "image/png": "[encoded data removed]",
      "text/plain": [
       "<Figure size 432x288 with 1 Axes>"
      ]
     },
     "metadata": {},
     "output_type": "display_data"
    }
   ],
   "source": [
    "trend_line_x = [x[0] , x[9]]\n",
    "trend_line_y = [weight * x[0] + bias, weight * x[9] + bias]\n",
    "equation = 'y = ' + str(weight) + 'x + ' + str(bias)\n",
    "plt.scatter(x,y)\n",
    "plt.plot(trend_line_x,trend_line_y,color='orange',label='Best Fit Line')\n",
    "plt.xlabel('Concentration of standard (μM)')\n",
    "plt.ylabel('Analyte Peak Area')\n",
    "plt.title('Standard calibration curve for Gamma HBCDD stereoisomer')\n",
    "plt.text(1.25, 400000,equation, horizontalalignment='center',verticalalignment='center')\n",
    "plt.legend()"
   ]
  },
  {
   "cell_type": "code",
   "execution_count": 72,
   "metadata": {},
   "outputs": [],
   "source": [
    "def convert_to_concentration(x):\n",
    "    return (x-bias)/weight"
   ]
  },
  {
   "cell_type": "raw",
   "metadata": {},
   "source": [
    "Separate the solid and aqueous dataframes then transform the peak areas into concentrations"
   ]
  },
  {
   "cell_type": "code",
   "execution_count": 31,
   "metadata": {},
   "outputs": [
    {
     "data": {
      "text/html": [
       "<div>\n",
       "<style scoped>\n",
       "    .dataframe tbody tr th:only-of-type {\n",
       "        vertical-align: middle;\n",
       "    }\n",
       "\n",
       "    .dataframe tbody tr th {\n",
       "        vertical-align: top;\n",
       "    }\n",
       "\n",
       "    .dataframe thead th {\n",
       "        text-align: right;\n",
       "    }\n",
       "</style>\n",
       "<table border=\"1\" class=\"dataframe\">\n",
       "  <thead>\n",
       "    <tr style=\"text-align: right;\">\n",
       "      <th></th>\n",
       "      <th>Sample Name</th>\n",
       "      <th>GAMMA Analyte Peak Area</th>\n",
       "      <th>BETA Analyte Peak Area (counts)</th>\n",
       "      <th>ALPHA Analyte Peak Area (counts)</th>\n",
       "    </tr>\n",
       "  </thead>\n",
       "  <tbody>\n",
       "    <tr>\n",
       "      <th>11</th>\n",
       "      <td>1 solid</td>\n",
       "      <td>148390</td>\n",
       "      <td>19496</td>\n",
       "      <td>52670</td>\n",
       "    </tr>\n",
       "    <tr>\n",
       "      <th>12</th>\n",
       "      <td>1 solid</td>\n",
       "      <td>156920</td>\n",
       "      <td>21748</td>\n",
       "      <td>52299</td>\n",
       "    </tr>\n",
       "    <tr>\n",
       "      <th>13</th>\n",
       "      <td>1 aqueous</td>\n",
       "      <td>710460</td>\n",
       "      <td>63864</td>\n",
       "      <td>90146</td>\n",
       "    </tr>\n",
       "    <tr>\n",
       "      <th>14</th>\n",
       "      <td>1 aqueous</td>\n",
       "      <td>720730</td>\n",
       "      <td>65554</td>\n",
       "      <td>91635</td>\n",
       "    </tr>\n",
       "    <tr>\n",
       "      <th>15</th>\n",
       "      <td>2 solid</td>\n",
       "      <td>160140</td>\n",
       "      <td>22114</td>\n",
       "      <td>53846</td>\n",
       "    </tr>\n",
       "  </tbody>\n",
       "</table>\n",
       "</div>"
      ],
      "text/plain": [
       "   Sample Name GAMMA Analyte Peak Area   BETA Analyte Peak Area (counts)  \\\n",
       "11     1 solid                   148390                            19496   \n",
       "12     1 solid                   156920                            21748   \n",
       "13   1 aqueous                   710460                            63864   \n",
       "14   1 aqueous                   720730                            65554   \n",
       "15     2 solid                   160140                            22114   \n",
       "\n",
       "    ALPHA Analyte Peak Area (counts)  \n",
       "11                             52670  \n",
       "12                             52299  \n",
       "13                             90146  \n",
       "14                             91635  \n",
       "15                             53846  "
      ]
     },
     "execution_count": 31,
     "metadata": {},
     "output_type": "execute_result"
    }
   ],
   "source": [
    "experiment_df.head()"
   ]
  },
  {
   "cell_type": "code",
   "execution_count": 32,
   "metadata": {},
   "outputs": [],
   "source": [
    "experiment_df = experiment_df.reset_index(drop=True)"
   ]
  },
  {
   "cell_type": "code",
   "execution_count": 33,
   "metadata": {},
   "outputs": [],
   "source": [
    "col = experiment_df.columns\n",
    "experiment_df[col] = experiment_df[col].apply(pd.to_numeric,errors='ignore')"
   ]
  },
  {
   "cell_type": "code",
   "execution_count": 34,
   "metadata": {},
   "outputs": [],
   "source": [
    "experiment_df = experiment_df.groupby('Sample Name').mean()"
   ]
  },
  {
   "cell_type": "code",
   "execution_count": 35,
   "metadata": {},
   "outputs": [],
   "source": [
    "experiment_df = experiment_df.reset_index()"
   ]
  },
  {
   "cell_type": "code",
   "execution_count": 36,
   "metadata": {},
   "outputs": [
    {
     "data": {
      "text/html": [
       "<div>\n",
       "<style scoped>\n",
       "    .dataframe tbody tr th:only-of-type {\n",
       "        vertical-align: middle;\n",
       "    }\n",
       "\n",
       "    .dataframe tbody tr th {\n",
       "        vertical-align: top;\n",
       "    }\n",
       "\n",
       "    .dataframe thead th {\n",
       "        text-align: right;\n",
       "    }\n",
       "</style>\n",
       "<table border=\"1\" class=\"dataframe\">\n",
       "  <thead>\n",
       "    <tr style=\"text-align: right;\">\n",
       "      <th></th>\n",
       "      <th>Sample Name</th>\n",
       "      <th>GAMMA Analyte Peak Area</th>\n",
       "      <th>BETA Analyte Peak Area (counts)</th>\n",
       "      <th>ALPHA Analyte Peak Area (counts)</th>\n",
       "    </tr>\n",
       "  </thead>\n",
       "  <tbody>\n",
       "    <tr>\n",
       "      <th>0</th>\n",
       "      <td>1 aqueous</td>\n",
       "      <td>715595.0</td>\n",
       "      <td>64709.0</td>\n",
       "      <td>90890.5</td>\n",
       "    </tr>\n",
       "    <tr>\n",
       "      <th>1</th>\n",
       "      <td>1 solid</td>\n",
       "      <td>152655.0</td>\n",
       "      <td>20622.0</td>\n",
       "      <td>52484.5</td>\n",
       "    </tr>\n",
       "    <tr>\n",
       "      <th>2</th>\n",
       "      <td>10 aqueous</td>\n",
       "      <td>574755.0</td>\n",
       "      <td>54958.0</td>\n",
       "      <td>96239.5</td>\n",
       "    </tr>\n",
       "    <tr>\n",
       "      <th>3</th>\n",
       "      <td>10 solid</td>\n",
       "      <td>131775.0</td>\n",
       "      <td>16078.5</td>\n",
       "      <td>55151.0</td>\n",
       "    </tr>\n",
       "    <tr>\n",
       "      <th>4</th>\n",
       "      <td>2 aqueous</td>\n",
       "      <td>874075.0</td>\n",
       "      <td>77963.0</td>\n",
       "      <td>125570.0</td>\n",
       "    </tr>\n",
       "    <tr>\n",
       "      <th>5</th>\n",
       "      <td>2 solid</td>\n",
       "      <td>161400.0</td>\n",
       "      <td>23315.0</td>\n",
       "      <td>53762.5</td>\n",
       "    </tr>\n",
       "    <tr>\n",
       "      <th>6</th>\n",
       "      <td>3 aqueous</td>\n",
       "      <td>1024750.0</td>\n",
       "      <td>101702.5</td>\n",
       "      <td>166280.0</td>\n",
       "    </tr>\n",
       "    <tr>\n",
       "      <th>7</th>\n",
       "      <td>3 solid</td>\n",
       "      <td>60537.5</td>\n",
       "      <td>12444.5</td>\n",
       "      <td>26352.0</td>\n",
       "    </tr>\n",
       "    <tr>\n",
       "      <th>8</th>\n",
       "      <td>4 aqueous</td>\n",
       "      <td>951575.0</td>\n",
       "      <td>90099.0</td>\n",
       "      <td>138240.0</td>\n",
       "    </tr>\n",
       "    <tr>\n",
       "      <th>9</th>\n",
       "      <td>4 solid</td>\n",
       "      <td>158385.0</td>\n",
       "      <td>22023.5</td>\n",
       "      <td>54964.5</td>\n",
       "    </tr>\n",
       "    <tr>\n",
       "      <th>10</th>\n",
       "      <td>5 aqueous</td>\n",
       "      <td>509470.0</td>\n",
       "      <td>45142.5</td>\n",
       "      <td>74927.0</td>\n",
       "    </tr>\n",
       "    <tr>\n",
       "      <th>11</th>\n",
       "      <td>5 solid</td>\n",
       "      <td>147505.0</td>\n",
       "      <td>19866.5</td>\n",
       "      <td>58031.0</td>\n",
       "    </tr>\n",
       "    <tr>\n",
       "      <th>12</th>\n",
       "      <td>6 aqueous</td>\n",
       "      <td>657700.0</td>\n",
       "      <td>58057.5</td>\n",
       "      <td>106210.0</td>\n",
       "    </tr>\n",
       "    <tr>\n",
       "      <th>13</th>\n",
       "      <td>6 solid</td>\n",
       "      <td>169040.0</td>\n",
       "      <td>21450.0</td>\n",
       "      <td>59806.5</td>\n",
       "    </tr>\n",
       "    <tr>\n",
       "      <th>14</th>\n",
       "      <td>7 aqueous</td>\n",
       "      <td>494555.0</td>\n",
       "      <td>40886.5</td>\n",
       "      <td>70824.0</td>\n",
       "    </tr>\n",
       "    <tr>\n",
       "      <th>15</th>\n",
       "      <td>7 solid</td>\n",
       "      <td>160895.0</td>\n",
       "      <td>22734.0</td>\n",
       "      <td>56713.5</td>\n",
       "    </tr>\n",
       "    <tr>\n",
       "      <th>16</th>\n",
       "      <td>8 aqueous</td>\n",
       "      <td>403325.0</td>\n",
       "      <td>35585.0</td>\n",
       "      <td>58552.0</td>\n",
       "    </tr>\n",
       "    <tr>\n",
       "      <th>17</th>\n",
       "      <td>8 solid</td>\n",
       "      <td>157950.0</td>\n",
       "      <td>16783.5</td>\n",
       "      <td>56924.5</td>\n",
       "    </tr>\n",
       "    <tr>\n",
       "      <th>18</th>\n",
       "      <td>9 aqueous</td>\n",
       "      <td>339580.0</td>\n",
       "      <td>30106.0</td>\n",
       "      <td>50624.0</td>\n",
       "    </tr>\n",
       "    <tr>\n",
       "      <th>19</th>\n",
       "      <td>9 solid</td>\n",
       "      <td>153400.0</td>\n",
       "      <td>19043.5</td>\n",
       "      <td>59419.0</td>\n",
       "    </tr>\n",
       "  </tbody>\n",
       "</table>\n",
       "</div>"
      ],
      "text/plain": [
       "   Sample Name  GAMMA Analyte Peak Area    BETA Analyte Peak Area (counts)  \\\n",
       "0    1 aqueous                  715595.0                           64709.0   \n",
       "1      1 solid                  152655.0                           20622.0   \n",
       "2   10 aqueous                  574755.0                           54958.0   \n",
       "3     10 solid                  131775.0                           16078.5   \n",
       "4    2 aqueous                  874075.0                           77963.0   \n",
       "5      2 solid                  161400.0                           23315.0   \n",
       "6    3 aqueous                 1024750.0                          101702.5   \n",
       "7      3 solid                   60537.5                           12444.5   \n",
       "8    4 aqueous                  951575.0                           90099.0   \n",
       "9      4 solid                  158385.0                           22023.5   \n",
       "10   5 aqueous                  509470.0                           45142.5   \n",
       "11     5 solid                  147505.0                           19866.5   \n",
       "12   6 aqueous                  657700.0                           58057.5   \n",
       "13    6 solid                   169040.0                           21450.0   \n",
       "14   7 aqueous                  494555.0                           40886.5   \n",
       "15     7 solid                  160895.0                           22734.0   \n",
       "16   8 aqueous                  403325.0                           35585.0   \n",
       "17     8 solid                  157950.0                           16783.5   \n",
       "18   9 aqueous                  339580.0                           30106.0   \n",
       "19     9 solid                  153400.0                           19043.5   \n",
       "\n",
       "     ALPHA Analyte Peak Area (counts)  \n",
       "0                             90890.5  \n",
       "1                             52484.5  \n",
       "2                             96239.5  \n",
       "3                             55151.0  \n",
       "4                            125570.0  \n",
       "5                             53762.5  \n",
       "6                            166280.0  \n",
       "7                             26352.0  \n",
       "8                            138240.0  \n",
       "9                             54964.5  \n",
       "10                            74927.0  \n",
       "11                            58031.0  \n",
       "12                           106210.0  \n",
       "13                            59806.5  \n",
       "14                            70824.0  \n",
       "15                            56713.5  \n",
       "16                            58552.0  \n",
       "17                            56924.5  \n",
       "18                            50624.0  \n",
       "19                            59419.0  "
      ]
     },
     "execution_count": 36,
     "metadata": {},
     "output_type": "execute_result"
    }
   ],
   "source": [
    "experiment_df"
   ]
  },
  {
   "cell_type": "code",
   "execution_count": 37,
   "metadata": {},
   "outputs": [],
   "source": [
    "experiment_aq_df = experiment_df.where(experiment_df['Sample Name'].str.contains('aqueous'))\n",
    "experiment_s_df = experiment_df.where(experiment_df['Sample Name'].str.contains('solid'))"
   ]
  },
  {
   "cell_type": "code",
   "execution_count": 38,
   "metadata": {},
   "outputs": [],
   "source": [
    "experiment_aq_df.dropna(inplace=True)\n",
    "experiment_s_df.dropna(inplace=True)"
   ]
  },
  {
   "cell_type": "code",
   "execution_count": 39,
   "metadata": {},
   "outputs": [],
   "source": [
    "experiment_aq_df = experiment_aq_df.rename(columns = {'Sample Name':'Aq Sample'})"
   ]
  },
  {
   "cell_type": "code",
   "execution_count": 40,
   "metadata": {},
   "outputs": [],
   "source": [
    "experiment_s_df = experiment_s_df.rename(columns = {'Sample Name':'S Sample'})"
   ]
  },
  {
   "cell_type": "code",
   "execution_count": 41,
   "metadata": {},
   "outputs": [],
   "source": [
    "experiment_aq_df['Aq Sample'] = experiment_aq_df['Aq Sample'].map(lambda x : x.rstrip('aqueous'))"
   ]
  },
  {
   "cell_type": "code",
   "execution_count": 48,
   "metadata": {},
   "outputs": [],
   "source": [
    "experiment_s_df['S Sample'] = experiment_s_df['S Sample'].map(lambda x : x.rstrip(' solid'))"
   ]
  },
  {
   "cell_type": "code",
   "execution_count": 49,
   "metadata": {},
   "outputs": [
    {
     "data": {
      "text/html": [
       "<div>\n",
       "<style scoped>\n",
       "    .dataframe tbody tr th:only-of-type {\n",
       "        vertical-align: middle;\n",
       "    }\n",
       "\n",
       "    .dataframe tbody tr th {\n",
       "        vertical-align: top;\n",
       "    }\n",
       "\n",
       "    .dataframe thead th {\n",
       "        text-align: right;\n",
       "    }\n",
       "</style>\n",
       "<table border=\"1\" class=\"dataframe\">\n",
       "  <thead>\n",
       "    <tr style=\"text-align: right;\">\n",
       "      <th></th>\n",
       "      <th>S Sample</th>\n",
       "      <th>GAMMA Analyte Peak Area</th>\n",
       "      <th>BETA Analyte Peak Area (counts)</th>\n",
       "      <th>ALPHA Analyte Peak Area (counts)</th>\n",
       "    </tr>\n",
       "  </thead>\n",
       "  <tbody>\n",
       "    <tr>\n",
       "      <th>1</th>\n",
       "      <td>1</td>\n",
       "      <td>152655.0</td>\n",
       "      <td>20622.0</td>\n",
       "      <td>52484.5</td>\n",
       "    </tr>\n",
       "    <tr>\n",
       "      <th>3</th>\n",
       "      <td>10</td>\n",
       "      <td>131775.0</td>\n",
       "      <td>16078.5</td>\n",
       "      <td>55151.0</td>\n",
       "    </tr>\n",
       "    <tr>\n",
       "      <th>5</th>\n",
       "      <td>2</td>\n",
       "      <td>161400.0</td>\n",
       "      <td>23315.0</td>\n",
       "      <td>53762.5</td>\n",
       "    </tr>\n",
       "    <tr>\n",
       "      <th>7</th>\n",
       "      <td>3</td>\n",
       "      <td>60537.5</td>\n",
       "      <td>12444.5</td>\n",
       "      <td>26352.0</td>\n",
       "    </tr>\n",
       "    <tr>\n",
       "      <th>9</th>\n",
       "      <td>4</td>\n",
       "      <td>158385.0</td>\n",
       "      <td>22023.5</td>\n",
       "      <td>54964.5</td>\n",
       "    </tr>\n",
       "    <tr>\n",
       "      <th>11</th>\n",
       "      <td>5</td>\n",
       "      <td>147505.0</td>\n",
       "      <td>19866.5</td>\n",
       "      <td>58031.0</td>\n",
       "    </tr>\n",
       "    <tr>\n",
       "      <th>13</th>\n",
       "      <td>6</td>\n",
       "      <td>169040.0</td>\n",
       "      <td>21450.0</td>\n",
       "      <td>59806.5</td>\n",
       "    </tr>\n",
       "    <tr>\n",
       "      <th>15</th>\n",
       "      <td>7</td>\n",
       "      <td>160895.0</td>\n",
       "      <td>22734.0</td>\n",
       "      <td>56713.5</td>\n",
       "    </tr>\n",
       "    <tr>\n",
       "      <th>17</th>\n",
       "      <td>8</td>\n",
       "      <td>157950.0</td>\n",
       "      <td>16783.5</td>\n",
       "      <td>56924.5</td>\n",
       "    </tr>\n",
       "    <tr>\n",
       "      <th>19</th>\n",
       "      <td>9</td>\n",
       "      <td>153400.0</td>\n",
       "      <td>19043.5</td>\n",
       "      <td>59419.0</td>\n",
       "    </tr>\n",
       "  </tbody>\n",
       "</table>\n",
       "</div>"
      ],
      "text/plain": [
       "   S Sample  GAMMA Analyte Peak Area    BETA Analyte Peak Area (counts)  \\\n",
       "1         1                  152655.0                           20622.0   \n",
       "3        10                  131775.0                           16078.5   \n",
       "5         2                  161400.0                           23315.0   \n",
       "7         3                   60537.5                           12444.5   \n",
       "9         4                  158385.0                           22023.5   \n",
       "11        5                  147505.0                           19866.5   \n",
       "13        6                  169040.0                           21450.0   \n",
       "15        7                  160895.0                           22734.0   \n",
       "17        8                  157950.0                           16783.5   \n",
       "19        9                  153400.0                           19043.5   \n",
       "\n",
       "     ALPHA Analyte Peak Area (counts)  \n",
       "1                             52484.5  \n",
       "3                             55151.0  \n",
       "5                             53762.5  \n",
       "7                             26352.0  \n",
       "9                             54964.5  \n",
       "11                            58031.0  \n",
       "13                            59806.5  \n",
       "15                            56713.5  \n",
       "17                            56924.5  \n",
       "19                            59419.0  "
      ]
     },
     "execution_count": 49,
     "metadata": {},
     "output_type": "execute_result"
    }
   ],
   "source": [
    "experiment_s_df"
   ]
  },
  {
   "cell_type": "code",
   "execution_count": 50,
   "metadata": {},
   "outputs": [],
   "source": [
    "col = experiment_aq_df.columns\n",
    "experiment_aq_df[col] = experiment_aq_df[col].apply(pd.to_numeric)\n",
    "col = experiment_s_df.columns\n",
    "experiment_s_df[col] = experiment_s_df[col].apply(pd.to_numeric)"
   ]
  },
  {
   "cell_type": "code",
   "execution_count": 53,
   "metadata": {},
   "outputs": [],
   "source": [
    "experiment_s_df.reset_index(drop=True,inplace=True)\n",
    "experiment_aq_df.reset_index(drop=True,inplace=True)"
   ]
  },
  {
   "cell_type": "code",
   "execution_count": 54,
   "metadata": {},
   "outputs": [],
   "source": [
    "experiment= [experiment_s_df, experiment_aq_df]"
   ]
  },
  {
   "cell_type": "code",
   "execution_count": 63,
   "metadata": {},
   "outputs": [],
   "source": [
    "for i in range(len(experiment)):\n",
    "    experiment[i].sort_values(by =experiment[i].columns[0],inplace=True)\n",
    "    experiment[i].reset_index(inplace=True)"
   ]
  },
  {
   "cell_type": "code",
   "execution_count": 69,
   "metadata": {},
   "outputs": [],
   "source": [
    "experiment_s_df.drop('index', axis=1,inplace=True)\n",
    "experiment_aq_df.drop('index', axis=1,inplace=True)"
   ]
  },
  {
   "cell_type": "raw",
   "metadata": {},
   "source": [
    "Convert the peak areas into concentrations with the trend line"
   ]
  },
  {
   "cell_type": "code",
   "execution_count": 80,
   "metadata": {},
   "outputs": [],
   "source": [
    "experiment_s_df[gamma] = experiment_s_df[gamma].apply(convert_to_concentration)"
   ]
  },
  {
   "cell_type": "code",
   "execution_count": 83,
   "metadata": {},
   "outputs": [],
   "source": [
    "experiment_s_df = experiment_s_df.rename(columns={gamma:'Gamma Concentration'})"
   ]
  },
  {
   "cell_type": "code",
   "execution_count": 85,
   "metadata": {},
   "outputs": [],
   "source": [
    "beta = standard_df.columns[2]\n",
    "alpha = standard_df.columns[3]"
   ]
  },
  {
   "cell_type": "code",
   "execution_count": 90,
   "metadata": {},
   "outputs": [],
   "source": [
    "experiment_s_df = experiment_s_df.rename(columns={beta:'Beta Concentration',alpha:'Alpha Concentration'})"
   ]
  },
  {
   "cell_type": "code",
   "execution_count": 89,
   "metadata": {},
   "outputs": [
    {
     "data": {
      "text/html": [
       "<div>\n",
       "<style scoped>\n",
       "    .dataframe tbody tr th:only-of-type {\n",
       "        vertical-align: middle;\n",
       "    }\n",
       "\n",
       "    .dataframe tbody tr th {\n",
       "        vertical-align: top;\n",
       "    }\n",
       "\n",
       "    .dataframe thead th {\n",
       "        text-align: right;\n",
       "    }\n",
       "</style>\n",
       "<table border=\"1\" class=\"dataframe\">\n",
       "  <thead>\n",
       "    <tr style=\"text-align: right;\">\n",
       "      <th></th>\n",
       "      <th>Aq Sample</th>\n",
       "      <th>Gamma Concentration</th>\n",
       "      <th>Beta Concentration</th>\n",
       "      <th>Alpha Concentration</th>\n",
       "    </tr>\n",
       "  </thead>\n",
       "  <tbody>\n",
       "    <tr>\n",
       "      <th>0</th>\n",
       "      <td>1</td>\n",
       "      <td>715595.0</td>\n",
       "      <td>64709.0</td>\n",
       "      <td>90890.5</td>\n",
       "    </tr>\n",
       "    <tr>\n",
       "      <th>1</th>\n",
       "      <td>2</td>\n",
       "      <td>874075.0</td>\n",
       "      <td>77963.0</td>\n",
       "      <td>125570.0</td>\n",
       "    </tr>\n",
       "    <tr>\n",
       "      <th>2</th>\n",
       "      <td>3</td>\n",
       "      <td>1024750.0</td>\n",
       "      <td>101702.5</td>\n",
       "      <td>166280.0</td>\n",
       "    </tr>\n",
       "    <tr>\n",
       "      <th>3</th>\n",
       "      <td>4</td>\n",
       "      <td>951575.0</td>\n",
       "      <td>90099.0</td>\n",
       "      <td>138240.0</td>\n",
       "    </tr>\n",
       "    <tr>\n",
       "      <th>4</th>\n",
       "      <td>5</td>\n",
       "      <td>509470.0</td>\n",
       "      <td>45142.5</td>\n",
       "      <td>74927.0</td>\n",
       "    </tr>\n",
       "    <tr>\n",
       "      <th>5</th>\n",
       "      <td>6</td>\n",
       "      <td>657700.0</td>\n",
       "      <td>58057.5</td>\n",
       "      <td>106210.0</td>\n",
       "    </tr>\n",
       "    <tr>\n",
       "      <th>6</th>\n",
       "      <td>7</td>\n",
       "      <td>494555.0</td>\n",
       "      <td>40886.5</td>\n",
       "      <td>70824.0</td>\n",
       "    </tr>\n",
       "    <tr>\n",
       "      <th>7</th>\n",
       "      <td>8</td>\n",
       "      <td>403325.0</td>\n",
       "      <td>35585.0</td>\n",
       "      <td>58552.0</td>\n",
       "    </tr>\n",
       "    <tr>\n",
       "      <th>8</th>\n",
       "      <td>9</td>\n",
       "      <td>339580.0</td>\n",
       "      <td>30106.0</td>\n",
       "      <td>50624.0</td>\n",
       "    </tr>\n",
       "    <tr>\n",
       "      <th>9</th>\n",
       "      <td>10</td>\n",
       "      <td>574755.0</td>\n",
       "      <td>54958.0</td>\n",
       "      <td>96239.5</td>\n",
       "    </tr>\n",
       "  </tbody>\n",
       "</table>\n",
       "</div>"
      ],
      "text/plain": [
       "   Aq Sample  Gamma Concentration  Beta Concentration  Alpha Concentration\n",
       "0          1             715595.0             64709.0              90890.5\n",
       "1          2             874075.0             77963.0             125570.0\n",
       "2          3            1024750.0            101702.5             166280.0\n",
       "3          4             951575.0             90099.0             138240.0\n",
       "4          5             509470.0             45142.5              74927.0\n",
       "5          6             657700.0             58057.5             106210.0\n",
       "6          7             494555.0             40886.5              70824.0\n",
       "7          8             403325.0             35585.0              58552.0\n",
       "8          9             339580.0             30106.0              50624.0\n",
       "9         10             574755.0             54958.0              96239.5"
      ]
     },
     "execution_count": 89,
     "metadata": {},
     "output_type": "execute_result"
    }
   ],
   "source": [
    "experiment_aq_df.rename(columns = {gamma:'Gamma Concentration',beta:'Beta Concentration',alpha:'Alpha Concentration'})"
   ]
  },
  {
   "cell_type": "code",
   "execution_count": 97,
   "metadata": {},
   "outputs": [],
   "source": [
    "experiment_s_df\n",
    "time = [1,2,3,4,24,25,26,27,28]"
   ]
  },
  {
   "cell_type": "code",
   "execution_count": 98,
   "metadata": {},
   "outputs": [
    {
     "ename": "KeyError",
     "evalue": "'[9] not found in axis'",
     "output_type": "error",
     "traceback": [
      "\u001b[1;31m---------------------------------------------------------------------------\u001b[0m",
      "\u001b[1;31mKeyError\u001b[0m                                  Traceback (most recent call last)",
      "\u001b[1;32m<ipython-input-98-85d8bb812451>\u001b[0m in \u001b[0;36m<module>\u001b[1;34m\u001b[0m\n\u001b[1;32m----> 1\u001b[1;33m \u001b[0mexperiment_s_df\u001b[0m\u001b[1;33m.\u001b[0m\u001b[0mdrop\u001b[0m\u001b[1;33m(\u001b[0m\u001b[1;36m9\u001b[0m\u001b[1;33m,\u001b[0m\u001b[0minplace\u001b[0m\u001b[1;33m=\u001b[0m\u001b[1;32mTrue\u001b[0m\u001b[1;33m)\u001b[0m\u001b[1;33m\u001b[0m\u001b[1;33m\u001b[0m\u001b[0m\n\u001b[0m",
      "\u001b[1;32mc:\\users\\krist\\appdata\\local\\programs\\python\\python37-32\\lib\\site-packages\\pandas\\core\\frame.py\u001b[0m in \u001b[0;36mdrop\u001b[1;34m(self, labels, axis, index, columns, level, inplace, errors)\u001b[0m\n\u001b[0;32m   3938\u001b[0m                                            \u001b[0mindex\u001b[0m\u001b[1;33m=\u001b[0m\u001b[0mindex\u001b[0m\u001b[1;33m,\u001b[0m \u001b[0mcolumns\u001b[0m\u001b[1;33m=\u001b[0m\u001b[0mcolumns\u001b[0m\u001b[1;33m,\u001b[0m\u001b[1;33m\u001b[0m\u001b[1;33m\u001b[0m\u001b[0m\n\u001b[0;32m   3939\u001b[0m                                            \u001b[0mlevel\u001b[0m\u001b[1;33m=\u001b[0m\u001b[0mlevel\u001b[0m\u001b[1;33m,\u001b[0m \u001b[0minplace\u001b[0m\u001b[1;33m=\u001b[0m\u001b[0minplace\u001b[0m\u001b[1;33m,\u001b[0m\u001b[1;33m\u001b[0m\u001b[1;33m\u001b[0m\u001b[0m\n\u001b[1;32m-> 3940\u001b[1;33m                                            errors=errors)\n\u001b[0m\u001b[0;32m   3941\u001b[0m \u001b[1;33m\u001b[0m\u001b[0m\n\u001b[0;32m   3942\u001b[0m     @rewrite_axis_style_signature('mapper', [('copy', True),\n",
      "\u001b[1;32mc:\\users\\krist\\appdata\\local\\programs\\python\\python37-32\\lib\\site-packages\\pandas\\core\\generic.py\u001b[0m in \u001b[0;36mdrop\u001b[1;34m(self, labels, axis, index, columns, level, inplace, errors)\u001b[0m\n\u001b[0;32m   3778\u001b[0m         \u001b[1;32mfor\u001b[0m \u001b[0maxis\u001b[0m\u001b[1;33m,\u001b[0m \u001b[0mlabels\u001b[0m \u001b[1;32min\u001b[0m \u001b[0maxes\u001b[0m\u001b[1;33m.\u001b[0m\u001b[0mitems\u001b[0m\u001b[1;33m(\u001b[0m\u001b[1;33m)\u001b[0m\u001b[1;33m:\u001b[0m\u001b[1;33m\u001b[0m\u001b[1;33m\u001b[0m\u001b[0m\n\u001b[0;32m   3779\u001b[0m             \u001b[1;32mif\u001b[0m \u001b[0mlabels\u001b[0m \u001b[1;32mis\u001b[0m \u001b[1;32mnot\u001b[0m \u001b[1;32mNone\u001b[0m\u001b[1;33m:\u001b[0m\u001b[1;33m\u001b[0m\u001b[1;33m\u001b[0m\u001b[0m\n\u001b[1;32m-> 3780\u001b[1;33m                 \u001b[0mobj\u001b[0m \u001b[1;33m=\u001b[0m \u001b[0mobj\u001b[0m\u001b[1;33m.\u001b[0m\u001b[0m_drop_axis\u001b[0m\u001b[1;33m(\u001b[0m\u001b[0mlabels\u001b[0m\u001b[1;33m,\u001b[0m \u001b[0maxis\u001b[0m\u001b[1;33m,\u001b[0m \u001b[0mlevel\u001b[0m\u001b[1;33m=\u001b[0m\u001b[0mlevel\u001b[0m\u001b[1;33m,\u001b[0m \u001b[0merrors\u001b[0m\u001b[1;33m=\u001b[0m\u001b[0merrors\u001b[0m\u001b[1;33m)\u001b[0m\u001b[1;33m\u001b[0m\u001b[1;33m\u001b[0m\u001b[0m\n\u001b[0m\u001b[0;32m   3781\u001b[0m \u001b[1;33m\u001b[0m\u001b[0m\n\u001b[0;32m   3782\u001b[0m         \u001b[1;32mif\u001b[0m \u001b[0minplace\u001b[0m\u001b[1;33m:\u001b[0m\u001b[1;33m\u001b[0m\u001b[1;33m\u001b[0m\u001b[0m\n",
      "\u001b[1;32mc:\\users\\krist\\appdata\\local\\programs\\python\\python37-32\\lib\\site-packages\\pandas\\core\\generic.py\u001b[0m in \u001b[0;36m_drop_axis\u001b[1;34m(self, labels, axis, level, errors)\u001b[0m\n\u001b[0;32m   3810\u001b[0m                 \u001b[0mnew_axis\u001b[0m \u001b[1;33m=\u001b[0m \u001b[0maxis\u001b[0m\u001b[1;33m.\u001b[0m\u001b[0mdrop\u001b[0m\u001b[1;33m(\u001b[0m\u001b[0mlabels\u001b[0m\u001b[1;33m,\u001b[0m \u001b[0mlevel\u001b[0m\u001b[1;33m=\u001b[0m\u001b[0mlevel\u001b[0m\u001b[1;33m,\u001b[0m \u001b[0merrors\u001b[0m\u001b[1;33m=\u001b[0m\u001b[0merrors\u001b[0m\u001b[1;33m)\u001b[0m\u001b[1;33m\u001b[0m\u001b[1;33m\u001b[0m\u001b[0m\n\u001b[0;32m   3811\u001b[0m             \u001b[1;32melse\u001b[0m\u001b[1;33m:\u001b[0m\u001b[1;33m\u001b[0m\u001b[1;33m\u001b[0m\u001b[0m\n\u001b[1;32m-> 3812\u001b[1;33m                 \u001b[0mnew_axis\u001b[0m \u001b[1;33m=\u001b[0m \u001b[0maxis\u001b[0m\u001b[1;33m.\u001b[0m\u001b[0mdrop\u001b[0m\u001b[1;33m(\u001b[0m\u001b[0mlabels\u001b[0m\u001b[1;33m,\u001b[0m \u001b[0merrors\u001b[0m\u001b[1;33m=\u001b[0m\u001b[0merrors\u001b[0m\u001b[1;33m)\u001b[0m\u001b[1;33m\u001b[0m\u001b[1;33m\u001b[0m\u001b[0m\n\u001b[0m\u001b[0;32m   3813\u001b[0m             \u001b[0mresult\u001b[0m \u001b[1;33m=\u001b[0m \u001b[0mself\u001b[0m\u001b[1;33m.\u001b[0m\u001b[0mreindex\u001b[0m\u001b[1;33m(\u001b[0m\u001b[1;33m**\u001b[0m\u001b[1;33m{\u001b[0m\u001b[0maxis_name\u001b[0m\u001b[1;33m:\u001b[0m \u001b[0mnew_axis\u001b[0m\u001b[1;33m}\u001b[0m\u001b[1;33m)\u001b[0m\u001b[1;33m\u001b[0m\u001b[1;33m\u001b[0m\u001b[0m\n\u001b[0;32m   3814\u001b[0m \u001b[1;33m\u001b[0m\u001b[0m\n",
      "\u001b[1;32mc:\\users\\krist\\appdata\\local\\programs\\python\\python37-32\\lib\\site-packages\\pandas\\core\\indexes\\base.py\u001b[0m in \u001b[0;36mdrop\u001b[1;34m(self, labels, errors)\u001b[0m\n\u001b[0;32m   4962\u001b[0m             \u001b[1;32mif\u001b[0m \u001b[0merrors\u001b[0m \u001b[1;33m!=\u001b[0m \u001b[1;34m'ignore'\u001b[0m\u001b[1;33m:\u001b[0m\u001b[1;33m\u001b[0m\u001b[1;33m\u001b[0m\u001b[0m\n\u001b[0;32m   4963\u001b[0m                 raise KeyError(\n\u001b[1;32m-> 4964\u001b[1;33m                     '{} not found in axis'.format(labels[mask]))\n\u001b[0m\u001b[0;32m   4965\u001b[0m             \u001b[0mindexer\u001b[0m \u001b[1;33m=\u001b[0m \u001b[0mindexer\u001b[0m\u001b[1;33m[\u001b[0m\u001b[1;33m~\u001b[0m\u001b[0mmask\u001b[0m\u001b[1;33m]\u001b[0m\u001b[1;33m\u001b[0m\u001b[1;33m\u001b[0m\u001b[0m\n\u001b[0;32m   4966\u001b[0m         \u001b[1;32mreturn\u001b[0m \u001b[0mself\u001b[0m\u001b[1;33m.\u001b[0m\u001b[0mdelete\u001b[0m\u001b[1;33m(\u001b[0m\u001b[0mindexer\u001b[0m\u001b[1;33m)\u001b[0m\u001b[1;33m\u001b[0m\u001b[1;33m\u001b[0m\u001b[0m\n",
      "\u001b[1;31mKeyError\u001b[0m: '[9] not found in axis'"
     ]
    }
   ],
   "source": [
    "experiment_s_df.drop(9,inplace=True)"
   ]
  },
  {
   "cell_type": "code",
   "execution_count": 99,
   "metadata": {},
   "outputs": [
    {
     "ename": "KeyError",
     "evalue": "\"['Beta concentration' 'Alpha concentration'] not found in axis\"",
     "output_type": "error",
     "traceback": [
      "\u001b[1;31m---------------------------------------------------------------------------\u001b[0m",
      "\u001b[1;31mKeyError\u001b[0m                                  Traceback (most recent call last)",
      "\u001b[1;32m<ipython-input-99-4dd36c4a793a>\u001b[0m in \u001b[0;36m<module>\u001b[1;34m\u001b[0m\n\u001b[1;32m----> 1\u001b[1;33m \u001b[0mexperiment_s_df\u001b[0m\u001b[1;33m.\u001b[0m\u001b[0mdrop\u001b[0m\u001b[1;33m(\u001b[0m\u001b[1;33m[\u001b[0m\u001b[1;34m'Beta concentration'\u001b[0m\u001b[1;33m,\u001b[0m\u001b[1;34m'Alpha concentration'\u001b[0m\u001b[1;33m]\u001b[0m\u001b[1;33m,\u001b[0m \u001b[0maxis\u001b[0m\u001b[1;33m=\u001b[0m\u001b[1;36m1\u001b[0m\u001b[1;33m,\u001b[0m\u001b[0minplace\u001b[0m\u001b[1;33m=\u001b[0m\u001b[1;32mTrue\u001b[0m\u001b[1;33m)\u001b[0m\u001b[1;33m\u001b[0m\u001b[1;33m\u001b[0m\u001b[0m\n\u001b[0m",
      "\u001b[1;32mc:\\users\\krist\\appdata\\local\\programs\\python\\python37-32\\lib\\site-packages\\pandas\\core\\frame.py\u001b[0m in \u001b[0;36mdrop\u001b[1;34m(self, labels, axis, index, columns, level, inplace, errors)\u001b[0m\n\u001b[0;32m   3938\u001b[0m                                            \u001b[0mindex\u001b[0m\u001b[1;33m=\u001b[0m\u001b[0mindex\u001b[0m\u001b[1;33m,\u001b[0m \u001b[0mcolumns\u001b[0m\u001b[1;33m=\u001b[0m\u001b[0mcolumns\u001b[0m\u001b[1;33m,\u001b[0m\u001b[1;33m\u001b[0m\u001b[1;33m\u001b[0m\u001b[0m\n\u001b[0;32m   3939\u001b[0m                                            \u001b[0mlevel\u001b[0m\u001b[1;33m=\u001b[0m\u001b[0mlevel\u001b[0m\u001b[1;33m,\u001b[0m \u001b[0minplace\u001b[0m\u001b[1;33m=\u001b[0m\u001b[0minplace\u001b[0m\u001b[1;33m,\u001b[0m\u001b[1;33m\u001b[0m\u001b[1;33m\u001b[0m\u001b[0m\n\u001b[1;32m-> 3940\u001b[1;33m                                            errors=errors)\n\u001b[0m\u001b[0;32m   3941\u001b[0m \u001b[1;33m\u001b[0m\u001b[0m\n\u001b[0;32m   3942\u001b[0m     @rewrite_axis_style_signature('mapper', [('copy', True),\n",
      "\u001b[1;32mc:\\users\\krist\\appdata\\local\\programs\\python\\python37-32\\lib\\site-packages\\pandas\\core\\generic.py\u001b[0m in \u001b[0;36mdrop\u001b[1;34m(self, labels, axis, index, columns, level, inplace, errors)\u001b[0m\n\u001b[0;32m   3778\u001b[0m         \u001b[1;32mfor\u001b[0m \u001b[0maxis\u001b[0m\u001b[1;33m,\u001b[0m \u001b[0mlabels\u001b[0m \u001b[1;32min\u001b[0m \u001b[0maxes\u001b[0m\u001b[1;33m.\u001b[0m\u001b[0mitems\u001b[0m\u001b[1;33m(\u001b[0m\u001b[1;33m)\u001b[0m\u001b[1;33m:\u001b[0m\u001b[1;33m\u001b[0m\u001b[1;33m\u001b[0m\u001b[0m\n\u001b[0;32m   3779\u001b[0m             \u001b[1;32mif\u001b[0m \u001b[0mlabels\u001b[0m \u001b[1;32mis\u001b[0m \u001b[1;32mnot\u001b[0m \u001b[1;32mNone\u001b[0m\u001b[1;33m:\u001b[0m\u001b[1;33m\u001b[0m\u001b[1;33m\u001b[0m\u001b[0m\n\u001b[1;32m-> 3780\u001b[1;33m                 \u001b[0mobj\u001b[0m \u001b[1;33m=\u001b[0m \u001b[0mobj\u001b[0m\u001b[1;33m.\u001b[0m\u001b[0m_drop_axis\u001b[0m\u001b[1;33m(\u001b[0m\u001b[0mlabels\u001b[0m\u001b[1;33m,\u001b[0m \u001b[0maxis\u001b[0m\u001b[1;33m,\u001b[0m \u001b[0mlevel\u001b[0m\u001b[1;33m=\u001b[0m\u001b[0mlevel\u001b[0m\u001b[1;33m,\u001b[0m \u001b[0merrors\u001b[0m\u001b[1;33m=\u001b[0m\u001b[0merrors\u001b[0m\u001b[1;33m)\u001b[0m\u001b[1;33m\u001b[0m\u001b[1;33m\u001b[0m\u001b[0m\n\u001b[0m\u001b[0;32m   3781\u001b[0m \u001b[1;33m\u001b[0m\u001b[0m\n\u001b[0;32m   3782\u001b[0m         \u001b[1;32mif\u001b[0m \u001b[0minplace\u001b[0m\u001b[1;33m:\u001b[0m\u001b[1;33m\u001b[0m\u001b[1;33m\u001b[0m\u001b[0m\n",
      "\u001b[1;32mc:\\users\\krist\\appdata\\local\\programs\\python\\python37-32\\lib\\site-packages\\pandas\\core\\generic.py\u001b[0m in \u001b[0;36m_drop_axis\u001b[1;34m(self, labels, axis, level, errors)\u001b[0m\n\u001b[0;32m   3810\u001b[0m                 \u001b[0mnew_axis\u001b[0m \u001b[1;33m=\u001b[0m \u001b[0maxis\u001b[0m\u001b[1;33m.\u001b[0m\u001b[0mdrop\u001b[0m\u001b[1;33m(\u001b[0m\u001b[0mlabels\u001b[0m\u001b[1;33m,\u001b[0m \u001b[0mlevel\u001b[0m\u001b[1;33m=\u001b[0m\u001b[0mlevel\u001b[0m\u001b[1;33m,\u001b[0m \u001b[0merrors\u001b[0m\u001b[1;33m=\u001b[0m\u001b[0merrors\u001b[0m\u001b[1;33m)\u001b[0m\u001b[1;33m\u001b[0m\u001b[1;33m\u001b[0m\u001b[0m\n\u001b[0;32m   3811\u001b[0m             \u001b[1;32melse\u001b[0m\u001b[1;33m:\u001b[0m\u001b[1;33m\u001b[0m\u001b[1;33m\u001b[0m\u001b[0m\n\u001b[1;32m-> 3812\u001b[1;33m                 \u001b[0mnew_axis\u001b[0m \u001b[1;33m=\u001b[0m \u001b[0maxis\u001b[0m\u001b[1;33m.\u001b[0m\u001b[0mdrop\u001b[0m\u001b[1;33m(\u001b[0m\u001b[0mlabels\u001b[0m\u001b[1;33m,\u001b[0m \u001b[0merrors\u001b[0m\u001b[1;33m=\u001b[0m\u001b[0merrors\u001b[0m\u001b[1;33m)\u001b[0m\u001b[1;33m\u001b[0m\u001b[1;33m\u001b[0m\u001b[0m\n\u001b[0m\u001b[0;32m   3813\u001b[0m             \u001b[0mresult\u001b[0m \u001b[1;33m=\u001b[0m \u001b[0mself\u001b[0m\u001b[1;33m.\u001b[0m\u001b[0mreindex\u001b[0m\u001b[1;33m(\u001b[0m\u001b[1;33m**\u001b[0m\u001b[1;33m{\u001b[0m\u001b[0maxis_name\u001b[0m\u001b[1;33m:\u001b[0m \u001b[0mnew_axis\u001b[0m\u001b[1;33m}\u001b[0m\u001b[1;33m)\u001b[0m\u001b[1;33m\u001b[0m\u001b[1;33m\u001b[0m\u001b[0m\n\u001b[0;32m   3814\u001b[0m \u001b[1;33m\u001b[0m\u001b[0m\n",
      "\u001b[1;32mc:\\users\\krist\\appdata\\local\\programs\\python\\python37-32\\lib\\site-packages\\pandas\\core\\indexes\\base.py\u001b[0m in \u001b[0;36mdrop\u001b[1;34m(self, labels, errors)\u001b[0m\n\u001b[0;32m   4962\u001b[0m             \u001b[1;32mif\u001b[0m \u001b[0merrors\u001b[0m \u001b[1;33m!=\u001b[0m \u001b[1;34m'ignore'\u001b[0m\u001b[1;33m:\u001b[0m\u001b[1;33m\u001b[0m\u001b[1;33m\u001b[0m\u001b[0m\n\u001b[0;32m   4963\u001b[0m                 raise KeyError(\n\u001b[1;32m-> 4964\u001b[1;33m                     '{} not found in axis'.format(labels[mask]))\n\u001b[0m\u001b[0;32m   4965\u001b[0m             \u001b[0mindexer\u001b[0m \u001b[1;33m=\u001b[0m \u001b[0mindexer\u001b[0m\u001b[1;33m[\u001b[0m\u001b[1;33m~\u001b[0m\u001b[0mmask\u001b[0m\u001b[1;33m]\u001b[0m\u001b[1;33m\u001b[0m\u001b[1;33m\u001b[0m\u001b[0m\n\u001b[0;32m   4966\u001b[0m         \u001b[1;32mreturn\u001b[0m \u001b[0mself\u001b[0m\u001b[1;33m.\u001b[0m\u001b[0mdelete\u001b[0m\u001b[1;33m(\u001b[0m\u001b[0mindexer\u001b[0m\u001b[1;33m)\u001b[0m\u001b[1;33m\u001b[0m\u001b[1;33m\u001b[0m\u001b[0m\n",
      "\u001b[1;31mKeyError\u001b[0m: \"['Beta concentration' 'Alpha concentration'] not found in axis\""
     ]
    }
   ],
   "source": [
    "experiment_s_df.drop(['Beta concentration','Alpha concentration'], axis=1,inplace=True)"
   ]
  },
  {
   "cell_type": "code",
   "execution_count": 104,
   "metadata": {},
   "outputs": [],
   "source": [
    "experiment_s_df['Time'] = time"
   ]
  },
  {
   "cell_type": "code",
   "execution_count": 118,
   "metadata": {},
   "outputs": [],
   "source": [
    "y= experiment_s_df['Gamma Concentration']\n",
    "initial_conc = y[0]\n",
    "def convert_to_kinetic(x):\n",
    "    return np.log(x/experiment_s_df['Gamma Concentration'][0])"
   ]
  },
  {
   "cell_type": "code",
   "execution_count": 120,
   "metadata": {},
   "outputs": [],
   "source": [
    "experiment_s_df['Gamma Concentration'] = experiment_s_df['Gamma Concentration'].apply(convert_to_kinetic)"
   ]
  },
  {
   "cell_type": "code",
   "execution_count": 121,
   "metadata": {},
   "outputs": [
    {
     "data": {
      "text/html": [
       "<div>\n",
       "<style scoped>\n",
       "    .dataframe tbody tr th:only-of-type {\n",
       "        vertical-align: middle;\n",
       "    }\n",
       "\n",
       "    .dataframe tbody tr th {\n",
       "        vertical-align: top;\n",
       "    }\n",
       "\n",
       "    .dataframe thead th {\n",
       "        text-align: right;\n",
       "    }\n",
       "</style>\n",
       "<table border=\"1\" class=\"dataframe\">\n",
       "  <thead>\n",
       "    <tr style=\"text-align: right;\">\n",
       "      <th></th>\n",
       "      <th>S Sample</th>\n",
       "      <th>Gamma Concentration</th>\n",
       "      <th>Time</th>\n",
       "    </tr>\n",
       "  </thead>\n",
       "  <tbody>\n",
       "    <tr>\n",
       "      <th>0</th>\n",
       "      <td>1</td>\n",
       "      <td>0.000000</td>\n",
       "      <td>1</td>\n",
       "    </tr>\n",
       "    <tr>\n",
       "      <th>1</th>\n",
       "      <td>2</td>\n",
       "      <td>0.071824</td>\n",
       "      <td>2</td>\n",
       "    </tr>\n",
       "    <tr>\n",
       "      <th>2</th>\n",
       "      <td>3</td>\n",
       "      <td>-1.534362</td>\n",
       "      <td>3</td>\n",
       "    </tr>\n",
       "    <tr>\n",
       "      <th>3</th>\n",
       "      <td>4</td>\n",
       "      <td>0.047640</td>\n",
       "      <td>4</td>\n",
       "    </tr>\n",
       "    <tr>\n",
       "      <th>4</th>\n",
       "      <td>5</td>\n",
       "      <td>-0.044844</td>\n",
       "      <td>24</td>\n",
       "    </tr>\n",
       "    <tr>\n",
       "      <th>5</th>\n",
       "      <td>6</td>\n",
       "      <td>0.130610</td>\n",
       "      <td>25</td>\n",
       "    </tr>\n",
       "    <tr>\n",
       "      <th>6</th>\n",
       "      <td>7</td>\n",
       "      <td>0.067814</td>\n",
       "      <td>26</td>\n",
       "    </tr>\n",
       "    <tr>\n",
       "      <th>7</th>\n",
       "      <td>8</td>\n",
       "      <td>0.044102</td>\n",
       "      <td>27</td>\n",
       "    </tr>\n",
       "    <tr>\n",
       "      <th>8</th>\n",
       "      <td>9</td>\n",
       "      <td>0.006324</td>\n",
       "      <td>28</td>\n",
       "    </tr>\n",
       "  </tbody>\n",
       "</table>\n",
       "</div>"
      ],
      "text/plain": [
       "   S Sample  Gamma Concentration  Time\n",
       "0         1             0.000000     1\n",
       "1         2             0.071824     2\n",
       "2         3            -1.534362     3\n",
       "3         4             0.047640     4\n",
       "4         5            -0.044844    24\n",
       "5         6             0.130610    25\n",
       "6         7             0.067814    26\n",
       "7         8             0.044102    27\n",
       "8         9             0.006324    28"
      ]
     },
     "execution_count": 121,
     "metadata": {},
     "output_type": "execute_result"
    }
   ],
   "source": [
    "experiment_s_df"
   ]
  },
  {
   "cell_type": "code",
   "execution_count": 122,
   "metadata": {},
   "outputs": [],
   "source": [
    "y = experiment_s_df['Gamma Concentration']"
   ]
  },
  {
   "cell_type": "code",
   "execution_count": 123,
   "metadata": {},
   "outputs": [
    {
     "name": "stdout",
     "output_type": "stream",
     "text": [
      "The current weight = 0.00023356989461493827, bias = -0.00026908747138471695, and cost = 0.2651526788283173.\n",
      "The current weight = 0.01232880018049738, bias = -0.29375316948696883, and cost = 0.2147137729138667.\n",
      "The current weight = 0.015146862771712379, bias = -0.3625287210940696, and cost = 0.2119440244100822.\n",
      "The current weight = 0.01580724585840427, bias = -0.3786455423459541, and cost = 0.2117919238019692.\n",
      "The current weight = 0.015961999632343894, bias = -0.3824223485102875, and cost = 0.21178357120426694.\n",
      "The current weight = 0.01599826453832224, bias = -0.3833074029872234, and cost = 0.2117831125217591.\n",
      "The current weight = 0.01600676283450035, bias = -0.3835148061191454, and cost = 0.2117830873332309.\n",
      "The current weight = 0.016008754320097286, bias = -0.38356340884389456, and cost = 0.21178308595000403.\n",
      "The current weight = 0.016009221003630083, bias = -0.3835747983770774, and cost = 0.2117830858740442.\n",
      "The current weight = 0.01600933036596743, bias = -0.38357746739340776, and cost = 0.21178308586987282.\n"
     ]
    }
   ],
   "source": [
    "learning_rate = .001\n",
    "iterations = 20000\n",
    "weight,bias = train(time,y,0,0,learning_rate,iterations)"
   ]
  },
  {
   "cell_type": "code",
   "execution_count": 129,
   "metadata": {},
   "outputs": [
    {
     "data": {
      "text/plain": [
       "<matplotlib.legend.Legend at 0x1225dd0>"
      ]
     },
     "execution_count": 129,
     "metadata": {},
     "output_type": "execute_result"
    },
    {
     "data": {
      "image/png": "[encoded data removed]",
      "text/plain": [
       "<Figure size 432x288 with 1 Axes>"
      ]
     },
     "metadata": {},
     "output_type": "display_data"
    }
   ],
   "source": [
    "weight = round(weight,3)\n",
    "bias = round(bias, 3)\n",
    "trend_line_x = [time[0] , time[8]]\n",
    "trend_line_y = [weight * time[0] + bias, weight * time[8] + bias]\n",
    "equation = 'y = ' + str(weight) + 'x + ' + str(bias)\n",
    "plt.scatter(time,y)\n",
    "plt.plot(trend_line_x,trend_line_y,color='orange',label='Best Fit Line')\n",
    "plt.xlabel('Time (hrs)')\n",
    "plt.ylabel('ln(ct/c0)')\n",
    "plt.title('Psuedo first order kinetic plot of gamma HBCD')\n",
    "plt.text(5, -.75,equation, horizontalalignment='center',verticalalignment='center')\n",
    "plt.legend()"
   ]
  },
  {
   "cell_type": "code",
   "execution_count": 134,
   "metadata": {},
   "outputs": [
    {
     "name": "stdout",
     "output_type": "stream",
     "text": [
      "The current weight = 2.335698946149383e-05, bias = -2.6908747138471697e-05, and cost = 0.2652482860617694.\n",
      "The current weight = 0.012324651392690277, bias = -0.2936519172398315, and cost = 0.2147203836684147.\n",
      "The current weight = 0.015145481497673183, bias = -0.36249501074133916, and cost = 0.21194454030099705.\n",
      "The current weight = 0.015806826269631435, bias = -0.3786353021726555, and cost = 0.21179196053443927.\n",
      "The current weight = 0.01596187882193669, bias = -0.38241940010083014, and cost = 0.21178357368328052.\n",
      "The current weight = 0.015998230956247975, bias = -0.38330658340795326, and cost = 0.2117831126832806.\n",
      "The current weight = 0.016006753729006857, bias = -0.3835145838972049, and cost = 0.21178308734349627.\n",
      "The current weight = 0.016008751896566472, bias = -0.38356334969699374, and cost = 0.21178308595064446.\n",
      "The current weight = 0.016009220367768126, bias = -0.3835747828587007, and cost = 0.21178308587408357.\n",
      "The current weight = 0.01600933020103304, bias = -0.38357746336814114, and cost = 0.2117830858698753.\n"
     ]
    },
    {
     "data": {
      "text/plain": [
       "<matplotlib.legend.Legend at 0xe8e930>"
      ]
     },
     "execution_count": 134,
     "metadata": {},
     "output_type": "execute_result"
    },
    {
     "data": {
      "image/png": "[encoded data removed]",
      "text/plain": [
       "<Figure size 432x288 with 1 Axes>"
      ]
     },
     "metadata": {},
     "output_type": "display_data"
    }
   ],
   "source": [
    "y = experiment_s_df['Gamma Concentration']\n",
    "learning_rate = .0001\n",
    "iterations = 200000\n",
    "weight,bias = train(time,y,0,0,learning_rate,iterations)\n",
    "weight = round(weight,3)\n",
    "bias = round(bias, 3)\n",
    "trend_line_x = [time[0] , time[8]]\n",
    "trend_line_y = [weight * time[0] + bias, weight * time[8] + bias]\n",
    "equation = 'y = ' + str(weight) + 'x + ' + str(bias)\n",
    "plt.scatter(time,y)\n",
    "plt.plot(trend_line_x,trend_line_y,color='orange',label='Best Fit Line')\n",
    "plt.xlabel('Time (hrs)')\n",
    "plt.ylabel('ln(ct/c0)')\n",
    "plt.title('Psuedo first order kinetic plot of gamma HBCD')\n",
    "plt.text(5, -.75,equation, horizontalalignment='center',verticalalignment='center')\n",
    "plt.legend()"
   ]
  },
  {
   "cell_type": "code",
   "execution_count": null,
   "metadata": {},
   "outputs": [],
   "source": []
  }
 ],
 "metadata": {
  "kernelspec": {
   "display_name": "Python 3",
   "language": "python",
   "name": "python3"
  },
  "language_info": {
   "codemirror_mode": {
    "name": "ipython",
    "version": 3
   },
   "file_extension": ".py",
   "mimetype": "text/x-python",
   "name": "python",
   "nbconvert_exporter": "python",
   "pygments_lexer": "ipython3",
   "version": "3.7.3"
  }
 },
 "nbformat": 4,
 "nbformat_minor": 2
}
